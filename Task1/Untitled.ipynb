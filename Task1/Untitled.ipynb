{
 "cells": [
  {
   "cell_type": "code",
   "execution_count": 13,
   "id": "12c1265d-9aa1-40c0-89a1-a559fedf40c8",
   "metadata": {},
   "outputs": [
    {
     "name": "stderr",
     "output_type": "stream",
     "text": [
      "C:\\Users\\kasam\\AppData\\Local\\Programs\\Python\\Python312\\Lib\\site-packages\\plotly\\offline\\offline.py:557: UserWarning:\n",
      "\n",
      "Your filename `task1.1 LDP Topic Sample` didn't end with .html. Adding .html to the end of your file.\n",
      "\n"
     ]
    },
    {
     "name": "stdout",
     "output_type": "stream",
     "text": [
      "Plot saved to task1.1 LDP Topic Sample.html\n"
     ]
    }
   ],
   "source": [
    "import json\n",
    "import plotly.graph_objs as go\n",
    "import plotly.offline as py_offline\n",
    "import chart_studio.plotly as py\n",
    "\n",
    "def readdata(file, topicCount):\n",
    "    datasets = []\n",
    "    with open(file, 'r') as f:\n",
    "        for line in f:\n",
    "            try:\n",
    "                data = json.loads(line)\n",
    "                datasets.append(data)\n",
    "            except json.JSONDecodeError:\n",
    "                print(f\"Ignoring invalid JSON: {line.strip()}\")\n",
    "\n",
    "    dataset = {}\n",
    "    for entry in datasets[:topicCount]:\n",
    "        topic = entry.get('Topic')\n",
    "        if topic is not None:\n",
    "            dataset[topic] = entry.get('Data', [])\n",
    "    \n",
    "    return dataset\n",
    "\n",
    "def normalize(values):\n",
    "    total = sum(float(value.split(':')[1]) for value in values)\n",
    "    return [total * 1000 / len(values)]\n",
    "\n",
    "def build_text(key, values):\n",
    "    return [f'Topic {key}:<br>' + '<br>'.join(values)]\n",
    "\n",
    "def build_trace(dataset):\n",
    "    traces = []\n",
    "    for key in sorted(dataset.keys()):\n",
    "        normalized_values = normalize(dataset[key])\n",
    "        trace = go.Scatter(\n",
    "            x=[key],\n",
    "            y=normalized_values,\n",
    "            text=build_text(key, dataset[key]),\n",
    "            mode='markers',\n",
    "            name=str(key),\n",
    "            marker=dict(\n",
    "                sizemode='diameter',\n",
    "                sizeref=0.85,\n",
    "                size=normalized_values,\n",
    "                line=dict(width=2)\n",
    "            )\n",
    "        )\n",
    "        traces.append(trace)\n",
    "    return traces\n",
    "\n",
    "def build_layout():\n",
    "    layout = go.Layout(\n",
    "        title='Cluster of Topic0 - Topic10 by LDP',\n",
    "        showlegend=False,\n",
    "        height=600,\n",
    "        width=800,\n",
    "        xaxis=dict(\n",
    "            title='Topic ID',\n",
    "            gridcolor='rgb(255, 255, 255)',\n",
    "            zerolinewidth=1,\n",
    "            ticklen=5,\n",
    "            gridwidth=1,\n",
    "        ),\n",
    "        yaxis=dict(\n",
    "            title='Group Frequency (1000x)',\n",
    "            gridcolor='rgb(255, 255, 255)',\n",
    "            zerolinewidth=1,\n",
    "            ticklen=5,\n",
    "            gridwidth=2,\n",
    "        ),\n",
    "        paper_bgcolor='rgb(243, 243, 243)',\n",
    "        plot_bgcolor='rgb(243, 243, 243)',\n",
    "    )\n",
    "    return layout\n",
    "\n",
    "def main(file):\n",
    "    dataset = readdata(file, 10)\n",
    "    traces = build_trace(dataset)\n",
    "    layout = build_layout()\n",
    "    fig = go.Figure(data=traces, layout=layout)\n",
    "    plot_url = py_offline.plot(fig, filename='task1.1 LDP Topic Sample', auto_open=False)\n",
    "    print(f'Plot saved to {plot_url}')\n",
    "\n",
    "if __name__ == '__main__':\n",
    "    main(r'c:\\Users\\kasam\\OneDrive\\Desktop\\yelp_dataset_challenge_academic_dataset/yelp_academic_dataset_review.json')\n",
    "\n"
   ]
  },
  {
   "cell_type": "code",
   "execution_count": null,
   "id": "1b6b6c55-6ba8-4966-a422-e4d16258e13d",
   "metadata": {},
   "outputs": [],
   "source": []
  }
 ],
 "metadata": {
  "kernelspec": {
   "display_name": "Python 3 (ipykernel)",
   "language": "python",
   "name": "python3"
  },
  "language_info": {
   "codemirror_mode": {
    "name": "ipython",
    "version": 3
   },
   "file_extension": ".py",
   "mimetype": "text/x-python",
   "name": "python",
   "nbconvert_exporter": "python",
   "pygments_lexer": "ipython3",
   "version": "3.12.3"
  }
 },
 "nbformat": 4,
 "nbformat_minor": 5
}
