{
 "cells": [
  {
   "cell_type": "code",
   "execution_count": null,
   "id": "a6d2b513-ad01-4042-ab48-7f7914c71ab0",
   "metadata": {},
   "outputs": [],
   "source": [
    "import pandas as pd\n",
    "import matplotlib.pyplot as plt\n",
    "from sklearn.feature_extraction.text import TfidfVectorizer\n",
    "from sklearn.decomposition import LatentDirichletAllocation\n",
    "from wordcloud import WordCloud\n",
    "import nltk\n",
    "from nltk.corpus import stopwords\n",
    "\n",
    "# Load NLTK stopwords and convert to list\n",
    "nltk.download('stopwords')\n",
    "stop_words = stopwords.words('english')\n",
    "stop_words.extend([\"you'd\", 'a', 'of', 'then', \"hadn't\", \"should've\", 'because', 'she', 'shan', 'while', \"wouldn't\", 'before', 'very', 'by', 'an', 'about', 'nor', 'hasn', \"aren't\", 'his', 're', 'myself', 'after', 'where', 'my', 'will', 'your', 'ain', \"mightn't\", 'didn', 'to', 'isn', 'more', 't', 'both', 'hers', 'd', 'at', 'you', \"shouldn't\", 'ours', 'further', 'he', 'am', 'does', 'its', 'there', 'under', 'such', 'mustn', 'just', 'once', 'between', 'is', 'few', 'weren', 'theirs', 'were', 'him', \"weren't\", 'their', 've', \"you'll\", 'now', 'from', 'as', 'has', 'are', 'who', 'into', 'herself', 'the', 'don', 'if', 'haven', 's', 'should', 'what', 'when', 'was', 'most', 'why', 'doing', 'hadn', 'yourselves', 'only', \"didn't\", 'through', 'which', 'not', 'and', 'how', \"it's\", 'in', 'some', 'did', 'or', 'ourselves', 'do', 'any', 'other', 'y', \"mustn't\", \"you're\", 'during', 'all', 'but', \"doesn't\", 'have', 'himself', 'them', 'over', 'no', 'yourself', 'been', 'whom', 'up', 'shouldn', 'each', 'against', 'yours', 'that', 'couldn', 'again', 'me', 'aren', 'with', 'i', 'down', 'it', 'be', 'had', \"she's\", 'below', \"isn't\", 'we', 'm', \"shan't\", 'too', 'her', 'our', 'won', 'll', 'themselves', 'o', 'doesn', 'these', 'off', 'ma', \"you've\", 'on', 'own', 'for', 'wasn', 'those', 'itself', \"haven't\", \"won't\", 'being', \"wasn't\", 'mightn', 'they', \"hasn't\", \"couldn't\", 'until', 'above', 'than', 'having', 'so', 'needn', 'wouldn', 'this', 'can', \"needn't\", 'here', \"that'll\", 'out', \"don't\", 'same'])\n",
    "\n",
    "# Load the dataset in chunks\n",
    "chunksize = 10000  # Adjust the chunk size as needed\n",
    "reviews_chunks = pd.read_json(r'c:\\Users\\kasam\\OneDrive\\Desktop\\yelp_dataset_challenge_academic_dataset/yelp_academic_dataset_review.json', lines=True, chunksize=chunksize)\n",
    "\n",
    "# Process each chunk\n",
    "for chunk in reviews_chunks:\n",
    "    # Filter for only 1-star reviews\n",
    "    chunk = chunk[chunk['stars'] == 1]\n",
    "    \n",
    "    # Tokenization and TF-IDF transformation\n",
    "    tfidf_vectorizer = TfidfVectorizer(stop_words=stop_words)\n",
    "    tfidf_matrix = tfidf_vectorizer.fit_transform(chunk['text'])\n",
    "\n",
    "    # Define the number of topics\n",
    "    num_topics = 10\n",
    "\n",
    "    # Model training using Latent Dirichlet Allocation\n",
    "    lda_model = LatentDirichletAllocation(n_components=num_topics, max_iter=200, learning_method='batch', random_state=317)\n",
    "    lda_model.fit(tfidf_matrix)\n",
    "\n",
    "    # Get the top words for each topic\n",
    "    feature_names = tfidf_vectorizer.get_feature_names_out()\n",
    "    top_word_indices = lda_model.components_.argsort(axis=1)[:, :-11:-1]\n",
    "    top_words = [[feature_names[index] for index in indices] for indices in top_word_indices]\n",
    "\n",
    "    # Plot word clouds for each topic\n",
    "    def plot_word_cloud(words):\n",
    "        wordcloud = WordCloud(background_color='white').generate(' '.join(words))\n",
    "        plt.imshow(wordcloud)\n",
    "        plt.axis(\"off\")\n",
    "        plt.show()\n",
    "\n",
    "    # Print and plot the topics\n",
    "    for i, words in enumerate(top_words):\n",
    "        print(f\"Topic {i}:\")\n",
    "        print(words)\n",
    "        plot_word_cloud(words)\n"
   ]
  },
  {
   "cell_type": "code",
   "execution_count": null,
   "id": "350f7e17-d67e-49bc-822c-818f5952e257",
   "metadata": {},
   "outputs": [],
   "source": []
  },
  {
   "cell_type": "code",
   "execution_count": null,
   "id": "a8b8e67e-eb5e-447b-a1a0-7fb8b614b902",
   "metadata": {},
   "outputs": [],
   "source": []
  }
 ],
 "metadata": {
  "kernelspec": {
   "display_name": "Python 3 (ipykernel)",
   "language": "python",
   "name": "python3"
  },
  "language_info": {
   "codemirror_mode": {
    "name": "ipython",
    "version": 3
   },
   "file_extension": ".py",
   "mimetype": "text/x-python",
   "name": "python",
   "nbconvert_exporter": "python",
   "pygments_lexer": "ipython3",
   "version": "3.12.3"
  }
 },
 "nbformat": 4,
 "nbformat_minor": 5
}
